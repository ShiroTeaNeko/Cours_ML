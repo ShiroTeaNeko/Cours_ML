{
 "cells": [
  {
   "cell_type": "markdown",
   "metadata": {},
   "source": [
    "# Détection du churn - opérateur Télécom\n",
    "## _Partie 2_\n",
    "\n",
    "## Objectif\n",
    "Dans la première partie, nous avons appris les notions de classification binaires et avons entraîné un premier modèle.\n",
    "\n",
    "Dans cette seconde partie, nous nous attarderons un peu plus sur la validation du modèle et l'analyse de ses performances. Nous verrons 2 notions fondamentales que sont le sur-apprentissage (*overfitting*) et le sous-apprentissage (*underfitting*).\n",
    "\n",
    "#### Les sujets abordés : \n",
    "\n",
    "* Séparation *trainset* / *testset*\n",
    "* Sur-apprentissage / sous-apprentissage\n",
    "* k-fold cross-validation \n",
    "* Hyper-paramètres d'un modèles\n",
    "* Hyper-optimisation\n",
    "\n",
    "#### Contexte\n",
    "Voir partie 1."
   ]
  },
  {
   "cell_type": "markdown",
   "metadata": {},
   "source": [
    "## Chargement des données\n",
    "\n",
    "Pour cette partie, on reprend simplement le code du notebook précédent."
   ]
  },
  {
   "cell_type": "code",
   "execution_count": 1,
   "metadata": {},
   "outputs": [],
   "source": [
    "import pandas as pd"
   ]
  },
  {
   "cell_type": "code",
   "execution_count": 2,
   "metadata": {},
   "outputs": [],
   "source": [
    "# This function will be used below\n",
    "def transform_to_binary(val):\n",
    "    \"\"\"\n",
    "    val is equal to \"Yes\" or \"No\"\n",
    "    This function should return 0 or 1\n",
    "    \"\"\"\n",
    "    return int(val == \"Yes\")"
   ]
  },
  {
   "cell_type": "code",
   "execution_count": 3,
   "metadata": {},
   "outputs": [
    {
     "data": {
      "text/html": [
       "<div>\n",
       "<style scoped>\n",
       "    .dataframe tbody tr th:only-of-type {\n",
       "        vertical-align: middle;\n",
       "    }\n",
       "\n",
       "    .dataframe tbody tr th {\n",
       "        vertical-align: top;\n",
       "    }\n",
       "\n",
       "    .dataframe thead th {\n",
       "        text-align: right;\n",
       "    }\n",
       "</style>\n",
       "<table border=\"1\" class=\"dataframe\">\n",
       "  <thead>\n",
       "    <tr style=\"text-align: right;\">\n",
       "      <th></th>\n",
       "      <th>Dependents</th>\n",
       "      <th>Partner</th>\n",
       "      <th>SeniorCitizen</th>\n",
       "      <th>Churn</th>\n",
       "      <th>tenure</th>\n",
       "      <th>MonthlyCharges</th>\n",
       "      <th>TotalCharges</th>\n",
       "    </tr>\n",
       "  </thead>\n",
       "  <tbody>\n",
       "    <tr>\n",
       "      <th>1869</th>\n",
       "      <td>1</td>\n",
       "      <td>1</td>\n",
       "      <td>0</td>\n",
       "      <td>0</td>\n",
       "      <td>72</td>\n",
       "      <td>24.10</td>\n",
       "      <td>1734.65</td>\n",
       "    </tr>\n",
       "    <tr>\n",
       "      <th>4528</th>\n",
       "      <td>0</td>\n",
       "      <td>0</td>\n",
       "      <td>0</td>\n",
       "      <td>0</td>\n",
       "      <td>44</td>\n",
       "      <td>88.15</td>\n",
       "      <td>3973.20</td>\n",
       "    </tr>\n",
       "    <tr>\n",
       "      <th>6344</th>\n",
       "      <td>0</td>\n",
       "      <td>1</td>\n",
       "      <td>0</td>\n",
       "      <td>1</td>\n",
       "      <td>38</td>\n",
       "      <td>74.95</td>\n",
       "      <td>2869.85</td>\n",
       "    </tr>\n",
       "    <tr>\n",
       "      <th>6739</th>\n",
       "      <td>0</td>\n",
       "      <td>0</td>\n",
       "      <td>0</td>\n",
       "      <td>0</td>\n",
       "      <td>4</td>\n",
       "      <td>55.90</td>\n",
       "      <td>238.50</td>\n",
       "    </tr>\n",
       "    <tr>\n",
       "      <th>432</th>\n",
       "      <td>0</td>\n",
       "      <td>0</td>\n",
       "      <td>0</td>\n",
       "      <td>0</td>\n",
       "      <td>2</td>\n",
       "      <td>53.45</td>\n",
       "      <td>119.50</td>\n",
       "    </tr>\n",
       "    <tr>\n",
       "      <th>...</th>\n",
       "      <td>...</td>\n",
       "      <td>...</td>\n",
       "      <td>...</td>\n",
       "      <td>...</td>\n",
       "      <td>...</td>\n",
       "      <td>...</td>\n",
       "      <td>...</td>\n",
       "    </tr>\n",
       "    <tr>\n",
       "      <th>3772</th>\n",
       "      <td>0</td>\n",
       "      <td>1</td>\n",
       "      <td>0</td>\n",
       "      <td>1</td>\n",
       "      <td>1</td>\n",
       "      <td>95.00</td>\n",
       "      <td>95.00</td>\n",
       "    </tr>\n",
       "    <tr>\n",
       "      <th>5191</th>\n",
       "      <td>1</td>\n",
       "      <td>1</td>\n",
       "      <td>0</td>\n",
       "      <td>0</td>\n",
       "      <td>23</td>\n",
       "      <td>91.10</td>\n",
       "      <td>2198.30</td>\n",
       "    </tr>\n",
       "    <tr>\n",
       "      <th>5226</th>\n",
       "      <td>1</td>\n",
       "      <td>1</td>\n",
       "      <td>0</td>\n",
       "      <td>0</td>\n",
       "      <td>12</td>\n",
       "      <td>21.15</td>\n",
       "      <td>306.05</td>\n",
       "    </tr>\n",
       "    <tr>\n",
       "      <th>5390</th>\n",
       "      <td>0</td>\n",
       "      <td>0</td>\n",
       "      <td>0</td>\n",
       "      <td>1</td>\n",
       "      <td>12</td>\n",
       "      <td>99.45</td>\n",
       "      <td>1200.15</td>\n",
       "    </tr>\n",
       "    <tr>\n",
       "      <th>860</th>\n",
       "      <td>0</td>\n",
       "      <td>0</td>\n",
       "      <td>0</td>\n",
       "      <td>0</td>\n",
       "      <td>26</td>\n",
       "      <td>19.80</td>\n",
       "      <td>457.30</td>\n",
       "    </tr>\n",
       "  </tbody>\n",
       "</table>\n",
       "<p>5986 rows × 7 columns</p>\n",
       "</div>"
      ],
      "text/plain": [
       "      Dependents  Partner  SeniorCitizen  Churn  tenure  MonthlyCharges  \\\n",
       "1869           1        1              0      0      72           24.10   \n",
       "4528           0        0              0      0      44           88.15   \n",
       "6344           0        1              0      1      38           74.95   \n",
       "6739           0        0              0      0       4           55.90   \n",
       "432            0        0              0      0       2           53.45   \n",
       "...          ...      ...            ...    ...     ...             ...   \n",
       "3772           0        1              0      1       1           95.00   \n",
       "5191           1        1              0      0      23           91.10   \n",
       "5226           1        1              0      0      12           21.15   \n",
       "5390           0        0              0      1      12           99.45   \n",
       "860            0        0              0      0      26           19.80   \n",
       "\n",
       "      TotalCharges  \n",
       "1869       1734.65  \n",
       "4528       3973.20  \n",
       "6344       2869.85  \n",
       "6739        238.50  \n",
       "432         119.50  \n",
       "...            ...  \n",
       "3772         95.00  \n",
       "5191       2198.30  \n",
       "5226        306.05  \n",
       "5390       1200.15  \n",
       "860         457.30  \n",
       "\n",
       "[5986 rows x 7 columns]"
      ]
     },
     "execution_count": 3,
     "metadata": {},
     "output_type": "execute_result"
    }
   ],
   "source": [
    "# Change here if needed\n",
    "dataset_path = \"./datasets/TelcoChurnDetection/telecom_users.csv\"\n",
    "\n",
    "# Read the data\n",
    "dataset = pd.read_csv(dataset_path, index_col=0)\n",
    "\n",
    "# features\n",
    "categorical_features = [\"Dependents\", \"Partner\", \"SeniorCitizen\", 'Churn']\n",
    "numerical_features = [\"tenure\", \"MonthlyCharges\", \"TotalCharges\"]\n",
    "dataset = dataset[categorical_features+numerical_features].copy()\n",
    "\n",
    "# Converting\n",
    "dataset.TotalCharges = pd.to_numeric(dataset.TotalCharges, errors='coerce').fillna(0)\n",
    "for feature in categorical_features:\n",
    "    dataset[feature] = dataset[feature].apply(transform_to_binary)\n",
    "\n",
    "\n",
    "dataset"
   ]
  },
  {
   "cell_type": "markdown",
   "metadata": {},
   "source": [
    "## Séparation train / test\n",
    "\n",
    "Dans le cadre de votre mission, pour élabore un modèle, vous explorez et analyser des données dites \"froides\" : elles ont été extraites de bases de données à un moment données et ne sont pas mises à jour.\n",
    "\n",
    "Comment garantir que la précision et le rappel que vous avez mesurés soient identiques sur des données plus récentes ?\n",
    "\n",
    "Est-ce que le modèle a réellement _appris_ à détecter des signaux de churn, ou est-ce qu'il a appris à partir d'autres motifs, \"_par chance_\" ?\n",
    "\n",
    "Afin de répondre à ces questions, la méthode consiste à séparer le dataset en 2 :\n",
    "* le trainset : c'est le jeu d'entraînement, sur lequel l'algorithme va apprendre à détecter le churn\n",
    "* le testset : c'est un jeu de test. **Ce jeu n'est pas utilisé pour l'entraînement** mais seulement pour valider les résultats. \n",
    "\n",
    "Dans les lignes suivantes, nous allons séparer le dataset en 2 parties puis effectuer cette démarche de validation.\n",
    "\n",
    "#### Remarque générale : pensez à bien mettre votre code en fonction afin de pouvoir le réutiliser à la fois pour le traiset et le testset.\n"
   ]
  },
  {
   "cell_type": "code",
   "execution_count": 4,
   "metadata": {},
   "outputs": [
    {
     "data": {
      "text/plain": [
       "((5986, 6), (5986,))"
      ]
     },
     "execution_count": 4,
     "metadata": {},
     "output_type": "execute_result"
    }
   ],
   "source": [
    "# Split features and target\n",
    "X = dataset.drop([\"Churn\"], axis=1).copy()\n",
    "y = dataset[\"Churn\"]\n",
    "X.shape, y.shape"
   ]
  },
  {
   "cell_type": "code",
   "execution_count": 5,
   "metadata": {},
   "outputs": [
    {
     "name": "stdout",
     "output_type": "stream",
     "text": [
      "Shape of 'X_train' is: (4190, 6)\n",
      "Shape of 'X_test' is: (1796, 6)\n",
      "Shape of 'y_train' is: (4190,)\n",
      "Shape of 'y_test' is: (1796,)\n"
     ]
    }
   ],
   "source": [
    "# Random of split of the dataset : 70/30\n",
    "from sklearn.model_selection import train_test_split\n",
    "\n",
    "X_train, X_test, y_train, y_test = train_test_split(X, y, test_size=0.3)\n",
    "\n",
    "print(f\"Shape of 'X_train' is: {X_train.shape}\")\n",
    "print(f\"Shape of 'X_test' is: {X_test.shape}\")\n",
    "print(f\"Shape of 'y_train' is: {y_train.shape}\")\n",
    "print(f\"Shape of 'y_test' is: {y_test.shape}\")"
   ]
  },
  {
   "cell_type": "code",
   "execution_count": 6,
   "metadata": {},
   "outputs": [
    {
     "name": "stdout",
     "output_type": "stream",
     "text": [
      "Churn Rate in trainset is: 0.263\n",
      "Churn Rate in testset is: 0.271\n"
     ]
    }
   ],
   "source": [
    "# Show proportion of target in each set\n",
    "churn_rate_train = (y_train).sum() / y_train.values.shape[0]\n",
    "churn_rate_test =  (y_test).sum() / y_test.values.shape[0]\n",
    "\n",
    "print(f\"Churn Rate in trainset is: {churn_rate_train:.3f}\")\n",
    "print(f\"Churn Rate in testset is: {churn_rate_test:.3f}\")"
   ]
  },
  {
   "cell_type": "code",
   "execution_count": 7,
   "metadata": {},
   "outputs": [
    {
     "data": {
      "text/plain": [
       "DecisionTreeClassifier(max_depth=5)"
      ]
     },
     "execution_count": 7,
     "metadata": {},
     "output_type": "execute_result"
    }
   ],
   "source": [
    "# Here, train a DecisionTree\n",
    "from sklearn.tree import DecisionTreeClassifier\n",
    "\n",
    "model = DecisionTreeClassifier(max_depth=5)\n",
    "model"
   ]
  },
  {
   "cell_type": "code",
   "execution_count": 8,
   "metadata": {},
   "outputs": [
    {
     "name": "stdout",
     "output_type": "stream",
     "text": [
      "CPU times: total: 0 ns\n",
      "Wall time: 8.27 ms\n"
     ]
    },
    {
     "data": {
      "text/plain": [
       "DecisionTreeClassifier(max_depth=5)"
      ]
     },
     "execution_count": 8,
     "metadata": {},
     "output_type": "execute_result"
    }
   ],
   "source": [
    "%time model.fit(X_train, y_train)"
   ]
  },
  {
   "cell_type": "code",
   "execution_count": 9,
   "metadata": {},
   "outputs": [],
   "source": [
    "# Use the model to compute prediction on both trainset and testset\n",
    "y_train_pred = model.predict(X_train)\n",
    "y_test_pred = model.predict(X_test)"
   ]
  },
  {
   "cell_type": "code",
   "execution_count": 10,
   "metadata": {},
   "outputs": [],
   "source": [
    "# compute confusion matrix both on train and test\n",
    "from sklearn.metrics import confusion_matrix\n",
    "mat_train = confusion_matrix(y_train.values,y_train_pred)\n",
    "mat_test = confusion_matrix(y_test.values,y_test_pred)"
   ]
  },
  {
   "cell_type": "code",
   "execution_count": 11,
   "metadata": {},
   "outputs": [
    {
     "data": {
      "image/png": "[encoded data removed]",
      "text/plain": [
       "<Figure size 360x360 with 2 Axes>"
      ]
     },
     "metadata": {
      "needs_background": "light"
     },
     "output_type": "display_data"
    },
    {
     "data": {
      "image/png": "[encoded data removed]",
      "text/plain": [
       "<Figure size 360x360 with 2 Axes>"
      ]
     },
     "metadata": {
      "needs_background": "light"
     },
     "output_type": "display_data"
    }
   ],
   "source": [
    "# Plot the confusion matrix\n",
    "import matplotlib.pyplot as plt\n",
    "import seaborn as sns\n",
    "\n",
    "for lab, cm in zip([\"TRAINSET\", \"TESTSET\"], [mat_train, mat_test]):\n",
    "    fig, (ax1) = plt.subplots(ncols=1, figsize=(5,5))\n",
    "    sns.heatmap(cm, \n",
    "                xticklabels=['Not Churn', 'Churn'],\n",
    "                yticklabels=['Not Churn', 'Churn'],\n",
    "                annot=True,ax=ax1,fmt=\"d\",\n",
    "                linewidths=.2,linecolor=\"Darkblue\", cmap=\"Blues\")\n",
    "    plt.title(f'Confusion Matrix {lab}', fontsize=14)\n",
    "    plt.show()"
   ]
  },
  {
   "cell_type": "code",
   "execution_count": 12,
   "metadata": {},
   "outputs": [],
   "source": [
    "#In order to plot the ROC curve, compute predict socre\n",
    "y_train_pred = model.predict(X_train)\n",
    "y_test_pred = model.predict(X_test)\n",
    "\n",
    "y_train_pred_proba = model.predict_proba(X_train)[:,1]\n",
    "y_test_pred_proba = model.predict_proba(X_test)[:,1]"
   ]
  },
  {
   "cell_type": "code",
   "execution_count": 13,
   "metadata": {},
   "outputs": [
    {
     "data": {
      "text/plain": [
       "<matplotlib.legend.Legend at 0x1dd6bb6da90>"
      ]
     },
     "execution_count": 13,
     "metadata": {},
     "output_type": "execute_result"
    },
    {
     "data": {
      "image/png": "[encoded data removed]",
      "text/plain": [
       "<Figure size 432x288 with 1 Axes>"
      ]
     },
     "metadata": {
      "needs_background": "light"
     },
     "output_type": "display_data"
    }
   ],
   "source": [
    "# Plot here the ROC Curve\n",
    "from sklearn.metrics import roc_curve, roc_auc_score\n",
    "\n",
    "fpr, tpr, thr = roc_curve(y_train.values, y_train_pred_proba)\n",
    "auc = roc_auc_score(y_train.values, y_train_pred_proba)\n",
    "\n",
    "plt.plot(fpr, tpr, label=f\"ROC (auc={auc:.3f})\")\n",
    "plt.plot([0,1], [0,1], label=\"Random model\")\n",
    "plt.legend()"
   ]
  },
  {
   "cell_type": "code",
   "execution_count": 14,
   "metadata": {},
   "outputs": [
    {
     "data": {
      "text/plain": [
       "<matplotlib.legend.Legend at 0x1dd6bbf5310>"
      ]
     },
     "execution_count": 14,
     "metadata": {},
     "output_type": "execute_result"
    },
    {
     "data": {
      "image/png": "[encoded data removed]",
      "text/plain": [
       "<Figure size 432x288 with 1 Axes>"
      ]
     },
     "metadata": {
      "needs_background": "light"
     },
     "output_type": "display_data"
    }
   ],
   "source": [
    "# Plot here the ROC Curve\n",
    "from sklearn.metrics import roc_curve, roc_auc_score\n",
    "\n",
    "fpr, tpr, thr = roc_curve(y_test.values, y_test_pred_proba)\n",
    "auc = roc_auc_score(y_test.values, y_test_pred_proba)\n",
    "\n",
    "plt.plot(fpr, tpr, label=f\"ROC (auc={auc:.3f})\")\n",
    "plt.plot([0,1], [0,1], label=\"Random model\")\n",
    "plt.legend()"
   ]
  },
  {
   "cell_type": "markdown",
   "metadata": {},
   "source": [
    "### Remarques\n",
    "\n",
    "L'entraînement avec un arbre de décision simple a tendance à apprendre \"trop\" sur le jeu d'entraînement, mais les performances sont bien moins bonnes sur le jeu de données de test.\n",
    "\n",
    "On dit qu'il a _overfitté_ notre dataset.\n",
    "\n",
    "Pour corriger le problème, on va réduire la complexité du modèle (le nombre paramètres) afin d'obtenir un modèle plus robuste. C'est la capacité de **généralisation** du modèle.\n",
    "\n",
    "Pour la suite, nous utiliserons des Random Forest et nous essayerons de trouver la profondeur optimale des arbres.\n"
   ]
  },
  {
   "cell_type": "code",
   "execution_count": 37,
   "metadata": {},
   "outputs": [
    {
     "data": {
      "text/plain": [
       "(0.7809257836470509, 0.761692269028995)"
      ]
     },
     "execution_count": 37,
     "metadata": {},
     "output_type": "execute_result"
    }
   ],
   "source": [
    "def compute_randomForest_auc(max_depths):\n",
    "    \"\"\"\n",
    "    This function compute the ROC AUC of a RandomForest algorithm\n",
    "    Input: max_depths : paramter to pass to the algorithm\n",
    "    Output\n",
    "    * roc auc on traintest\n",
    "    * roc auc on testset\n",
    "    \"\"\"\n",
    "    from sklearn.ensemble import RandomForestClassifier\n",
    "\n",
    "    model = RandomForestClassifier(n_estimators=1,max_depth=max_depths,min_samples_split=3)\n",
    "    model.fit(X_train, y_train)\n",
    "    \n",
    "    y_train_pred_proba = model.predict_proba(X_train)[:,1]\n",
    "    y_test_pred_proba = model.predict_proba(X_test)[:,1]\n",
    "    \n",
    "    auc = roc_auc_score(y_train.values, y_train_pred_proba)\n",
    "    auc2 = roc_auc_score(y_test.values, y_test_pred_proba)\n",
    "    \n",
    "    return auc, auc2\n",
    "\n",
    "compute_randomForest_auc(5)"
   ]
  },
  {
   "cell_type": "code",
   "execution_count": 38,
   "metadata": {},
   "outputs": [
    {
     "data": {
      "text/plain": [
       "<matplotlib.legend.Legend at 0x1dd6e06a250>"
      ]
     },
     "execution_count": 38,
     "metadata": {},
     "output_type": "execute_result"
    },
    {
     "data": {
      "image/png": "[encoded data removed]",
      "text/plain": [
       "<Figure size 432x288 with 1 Axes>"
      ]
     },
     "metadata": {
      "needs_background": "light"
     },
     "output_type": "display_data"
    }
   ],
   "source": [
    "xx = list(range(3,11)) +[15, 20, 30]\n",
    "train_scores, test_scores = zip(*[compute_randomForest_auc(n) for n in xx])\n",
    "\n",
    "plt.plot(xx, train_scores, label=\"TRAIN Scores\")\n",
    "plt.plot(xx, test_scores, label=\"TEST Scores\")\n",
    "plt.legend()"
   ]
  },
  {
   "cell_type": "markdown",
   "metadata": {},
   "source": [
    "On observe que plus les arbres sont grands, plus l'écart entre traintest & testset est grande et les modèles vont 'surapprendre\".\n",
    "\n",
    "\n",
    "Un des grands intérêt de l'algorithme RandomForest est qu'il est très robuste au sur-entraînement. En particulier, il est possible de jouer sur différents paramètres comme le nombre d'arbres, et sur des paramètres rendant l'algorithme plus ou moins aléatoires (comme : la quantité de features ou d'observations prises en compte lors de la construction de chaque arbre.)\n",
    "\n",
    "On appelle ces valeurs des **hyper-paramètres** du modèle (les **paramètres** d'un modèle étant le choix des feautures et les valeurs de seuils dans chaque noeud de l'arbre). Les **hyper-paramètres** contrôle comment l'algorithme apprend à partir des données, c'est à dire comment il génère les **paramètres** du modèle.\n",
    "\n",
    "dans les cellules suivantes, analyser l'importance des hyper-paramètres suivant : \n",
    "* n_estimators\n",
    "* min_samples_split\n",
    "* max_features  \n"
   ]
  },
  {
   "cell_type": "code",
   "execution_count": 26,
   "metadata": {},
   "outputs": [],
   "source": [
    "# TODO"
   ]
  },
  {
   "cell_type": "markdown",
   "metadata": {},
   "source": [
    "## K-fold Cross-validation\n",
    "\n",
    "\n",
    "La validation croisée 'K-Fold' est une technique pour analyser la capacité de **généralisation** d'un modèle, autrement dit sa **variance**.\n",
    "\n",
    "Dans la section précédente, on a séparé traintest et testset.\n",
    "\n",
    "Avec la validation croisée K-Fold, le principale est le suivant. Prenons K = 5. On sépare le dataset complet en 5 partie égale.\n",
    "Alors pour chacune de ces 5 parties (\"Fold\") : \n",
    "* l'entraînement est effectué sur les 4 autres (soit 80% du dataset)\n",
    "* la validation sur la 5e partie (soit 20% du dataset)\n",
    "\n",
    "Ce qui fait 5 entraînements / validations.\n",
    "\n",
    "\n",
    "Cette technique est particulièrement importante si le dataset n'est pas très grand et on suspecte un risque de forte variation entre les entraînements.\n",
    "\n",
    "Le but de la cellule suivante est d'utiliser cette technique sur notre jeu de données précédent.\n",
    "\n",
    "#### Que pouvez-vous dire de la stabilité de l'entraînement ?"
   ]
  },
  {
   "cell_type": "code",
   "execution_count": 36,
   "metadata": {},
   "outputs": [
    {
     "ename": "ValueError",
     "evalue": "n_estimators must be an integer, got <class 'dict'>.",
     "output_type": "error",
     "traceback": [
      "\u001b[1;31m---------------------------------------------------------------------------\u001b[0m",
      "\u001b[1;31mValueError\u001b[0m                                Traceback (most recent call last)",
      "Input \u001b[1;32mIn [36]\u001b[0m, in \u001b[0;36m<cell line: 29>\u001b[1;34m()\u001b[0m\n\u001b[0;32m     25\u001b[0m     auc2 \u001b[38;5;241m=\u001b[39m roc_auc_score(y_test\u001b[38;5;241m.\u001b[39mvalues, y_test_pred_proba)\n\u001b[0;32m     27\u001b[0m     plt\u001b[38;5;241m.\u001b[39mplot(fpr, tpr, label\u001b[38;5;241m=\u001b[39m\u001b[38;5;124mf\u001b[39m\u001b[38;5;124m\"\u001b[39m\u001b[38;5;124mROC (auc=\u001b[39m\u001b[38;5;132;01m{\u001b[39;00mauc2\u001b[38;5;132;01m:\u001b[39;00m\u001b[38;5;124m.3f\u001b[39m\u001b[38;5;132;01m}\u001b[39;00m\u001b[38;5;124m)\u001b[39m\u001b[38;5;124m\"\u001b[39m)\n\u001b[1;32m---> 29\u001b[0m \u001b[43mcompute_RF_performance\u001b[49m\u001b[43m(\u001b[49m\u001b[43mX_train\u001b[49m\u001b[43m,\u001b[49m\u001b[43m \u001b[49m\u001b[43my_train\u001b[49m\u001b[43m,\u001b[49m\u001b[43m \u001b[49m\u001b[43mX_test\u001b[49m\u001b[43m,\u001b[49m\u001b[43m \u001b[49m\u001b[43my_test\u001b[49m\u001b[43m,\u001b[49m\u001b[43m \u001b[49m\u001b[43mn_estimators\u001b[49m\u001b[38;5;241;43m=\u001b[39;49m\u001b[38;5;241;43m50\u001b[39;49m\u001b[43m,\u001b[49m\u001b[43m \u001b[49m\u001b[43mmax_depth\u001b[49m\u001b[38;5;241;43m=\u001b[39;49m\u001b[38;5;241;43m4\u001b[39;49m\u001b[43m)\u001b[49m\n",
      "Input \u001b[1;32mIn [36]\u001b[0m, in \u001b[0;36mcompute_RF_performance\u001b[1;34m(X_train, y_train, X_test, y_test, **params)\u001b[0m\n\u001b[0;32m     11\u001b[0m \u001b[38;5;28;01mfrom\u001b[39;00m \u001b[38;5;21;01msklearn\u001b[39;00m\u001b[38;5;21;01m.\u001b[39;00m\u001b[38;5;21;01mmetrics\u001b[39;00m \u001b[38;5;28;01mimport\u001b[39;00m roc_curve, roc_auc_score\n\u001b[0;32m     13\u001b[0m model \u001b[38;5;241m=\u001b[39m RandomForestClassifier(n_estimators\u001b[38;5;241m=\u001b[39mparams,max_depth\u001b[38;5;241m=\u001b[39mparams)\n\u001b[1;32m---> 14\u001b[0m \u001b[43mmodel\u001b[49m\u001b[38;5;241;43m.\u001b[39;49m\u001b[43mfit\u001b[49m\u001b[43m(\u001b[49m\u001b[43mX_train\u001b[49m\u001b[43m,\u001b[49m\u001b[43m \u001b[49m\u001b[43my_train\u001b[49m\u001b[43m)\u001b[49m\n\u001b[0;32m     16\u001b[0m y_train_pred_proba \u001b[38;5;241m=\u001b[39m model\u001b[38;5;241m.\u001b[39mpredict_proba(X_train)[:,\u001b[38;5;241m1\u001b[39m]\n\u001b[0;32m     17\u001b[0m y_test_pred_proba \u001b[38;5;241m=\u001b[39m model\u001b[38;5;241m.\u001b[39mpredict_proba(X_test)[:,\u001b[38;5;241m1\u001b[39m]\n",
      "File \u001b[1;32m~\\anaconda3\\envs\\cours_ML\\lib\\site-packages\\sklearn\\ensemble\\_forest.py:392\u001b[0m, in \u001b[0;36mBaseForest.fit\u001b[1;34m(self, X, y, sample_weight)\u001b[0m\n\u001b[0;32m    389\u001b[0m     n_samples_bootstrap \u001b[38;5;241m=\u001b[39m \u001b[38;5;28;01mNone\u001b[39;00m\n\u001b[0;32m    391\u001b[0m \u001b[38;5;66;03m# Check parameters\u001b[39;00m\n\u001b[1;32m--> 392\u001b[0m \u001b[38;5;28;43mself\u001b[39;49m\u001b[38;5;241;43m.\u001b[39;49m\u001b[43m_validate_estimator\u001b[49m\u001b[43m(\u001b[49m\u001b[43m)\u001b[49m\n\u001b[0;32m    393\u001b[0m \u001b[38;5;66;03m# TODO: Remove in v1.2\u001b[39;00m\n\u001b[0;32m    394\u001b[0m \u001b[38;5;28;01mif\u001b[39;00m \u001b[38;5;28misinstance\u001b[39m(\u001b[38;5;28mself\u001b[39m, (RandomForestRegressor, ExtraTreesRegressor)):\n",
      "File \u001b[1;32m~\\anaconda3\\envs\\cours_ML\\lib\\site-packages\\sklearn\\ensemble\\_base.py:131\u001b[0m, in \u001b[0;36mBaseEnsemble._validate_estimator\u001b[1;34m(self, default)\u001b[0m\n\u001b[0;32m    126\u001b[0m \u001b[38;5;124;03m\"\"\"Check the estimator and the n_estimator attribute.\u001b[39;00m\n\u001b[0;32m    127\u001b[0m \n\u001b[0;32m    128\u001b[0m \u001b[38;5;124;03mSets the base_estimator_` attributes.\u001b[39;00m\n\u001b[0;32m    129\u001b[0m \u001b[38;5;124;03m\"\"\"\u001b[39;00m\n\u001b[0;32m    130\u001b[0m \u001b[38;5;28;01mif\u001b[39;00m \u001b[38;5;129;01mnot\u001b[39;00m \u001b[38;5;28misinstance\u001b[39m(\u001b[38;5;28mself\u001b[39m\u001b[38;5;241m.\u001b[39mn_estimators, numbers\u001b[38;5;241m.\u001b[39mIntegral):\n\u001b[1;32m--> 131\u001b[0m     \u001b[38;5;28;01mraise\u001b[39;00m \u001b[38;5;167;01mValueError\u001b[39;00m(\n\u001b[0;32m    132\u001b[0m         \u001b[38;5;124m\"\u001b[39m\u001b[38;5;124mn_estimators must be an integer, got \u001b[39m\u001b[38;5;132;01m{0}\u001b[39;00m\u001b[38;5;124m.\u001b[39m\u001b[38;5;124m\"\u001b[39m\u001b[38;5;241m.\u001b[39mformat(\n\u001b[0;32m    133\u001b[0m             \u001b[38;5;28mtype\u001b[39m(\u001b[38;5;28mself\u001b[39m\u001b[38;5;241m.\u001b[39mn_estimators)\n\u001b[0;32m    134\u001b[0m         )\n\u001b[0;32m    135\u001b[0m     )\n\u001b[0;32m    137\u001b[0m \u001b[38;5;28;01mif\u001b[39;00m \u001b[38;5;28mself\u001b[39m\u001b[38;5;241m.\u001b[39mn_estimators \u001b[38;5;241m<\u001b[39m\u001b[38;5;241m=\u001b[39m \u001b[38;5;241m0\u001b[39m:\n\u001b[0;32m    138\u001b[0m     \u001b[38;5;28;01mraise\u001b[39;00m \u001b[38;5;167;01mValueError\u001b[39;00m(\n\u001b[0;32m    139\u001b[0m         \u001b[38;5;124m\"\u001b[39m\u001b[38;5;124mn_estimators must be greater than zero, got \u001b[39m\u001b[38;5;132;01m{0}\u001b[39;00m\u001b[38;5;124m.\u001b[39m\u001b[38;5;124m\"\u001b[39m\u001b[38;5;241m.\u001b[39mformat(\n\u001b[0;32m    140\u001b[0m             \u001b[38;5;28mself\u001b[39m\u001b[38;5;241m.\u001b[39mn_estimators\n\u001b[0;32m    141\u001b[0m         )\n\u001b[0;32m    142\u001b[0m     )\n",
      "\u001b[1;31mValueError\u001b[0m: n_estimators must be an integer, got <class 'dict'>."
     ]
    }
   ],
   "source": [
    "# Here we write a function to help implement K-fold validation\n",
    "def compute_RF_performance(X_train, y_train, X_test, y_test, **params):\n",
    "    \"\"\"\n",
    "    This function computes performance of RF for given Train/Test set\n",
    "    X_train/y_train are features and target for trainset\n",
    "    X_test/y_test are features and target for testset\n",
    "    params is a set of parameters to pass to the algorithm\n",
    "    It should plot the ROC Curve\n",
    "    \"\"\"\n",
    "    from sklearn.ensemble import RandomForestClassifier\n",
    "    from sklearn.metrics import roc_curve, roc_auc_score\n",
    "    \n",
    "    model = RandomForestClassifier(n_estimators=,max_depth=)\n",
    "    model.fit(X_train, y_train)\n",
    "    \n",
    "    y_train_pred_proba = model.predict_proba(X_train)[:,1]\n",
    "    y_test_pred_proba = model.predict_proba(X_test)[:,1]\n",
    "    \n",
    "    fpr, tpr, thr = roc_curve(y_train.values, y_train_pred_proba)\n",
    "    auc = roc_auc_score(y_train.values, y_train_pred_proba)\n",
    "\n",
    "    plt.plot(fpr, tpr, label=f\"ROC (auc={auc:.3f})\")\n",
    "    \n",
    "    fpr, tpr, thr = roc_curve(y_test.values, y_test_pred_proba)\n",
    "    auc2 = roc_auc_score(y_test.values, y_test_pred_proba)\n",
    "\n",
    "    plt.plot(fpr, tpr, label=f\"ROC (auc={auc2:.3f})\")\n",
    "\n",
    "compute_RF_performance(X_train, y_train, X_test, y_test, n_estimators=50, max_depth=4)"
   ]
  },
  {
   "cell_type": "code",
   "execution_count": null,
   "metadata": {},
   "outputs": [],
   "source": [
    "# Here do the actual K-Fold\n",
    "# Hint : check out doc for dataframe method iloc\n",
    "from sklearn.model_selection import KFold\n",
    "\n",
    "cv = KFold(n_splits=5) \n",
    "for train, test in cv.split(X):\n",
    "    compute_RF_performance(X.iloc[train], y.iloc[train], X.iloc[test], y.iloc[test], n_estimators=100, max_depth = 4)"
   ]
  },
  {
   "cell_type": "markdown",
   "metadata": {},
   "source": [
    "# Hyper-optimisation du modèle\n",
    "\n",
    "Dans les dernières sections nous avons vu l'influence des **hyper-paramètres** de l'algorithme sur la performance du modèle.\n",
    "\n",
    "Naturellement, nous souhaitons optimiser le choix de ces hyper-paramètres afin d'avoir le meilleur modèle possible.\n",
    "\n",
    "Il existe plusieurs stratégie. La plus simple : la stratégie du '_GridSearch_' consiste à rechercher de manière brutale toutes les combinaisons possibles pour sélectionner la meilleure.\n",
    "\n",
    "Comme ce processus est long, on propose une seconde approche qui consiste à tester \"aléatoirement\" parmi un ensemnble de valeurs possibles.\n",
    "\n",
    "D'autres stratégies plus élaborée existent. Pour toutes ces stratégies, il est nécessaire de définir :\n",
    "* ce qu'on veut optimiser. Par exemple la moyenne 4-fold de la précision (accuracy)\n",
    "* définir un espace de recherche des hyper paramètres (_paramters space_)\n",
    "\n",
    "\n",
    "C'est ce que nous allons implémenter dans les prochaines lignes."
   ]
  },
  {
   "cell_type": "code",
   "execution_count": null,
   "metadata": {},
   "outputs": [],
   "source": [
    "# we specify parameters spaces\n",
    "\n",
    "distributions = dict(\n",
    "    n_estimators = [50, 100, 200, 500, 1000],\n",
    "    max_depth = [3, 5, 8, 10, 15]\n",
    "    # TODO : add here other parameters you want to test\n",
    ")\n",
    "\n",
    "print(f\"Size of parameters space is: {np.prod([len(v) for v in distributions.values()])}\")"
   ]
  },
  {
   "cell_type": "code",
   "execution_count": null,
   "metadata": {},
   "outputs": [],
   "source": [
    "# Implement the RandomizedSearch with Cross-Vald optimisation\n",
    "# The following function from scikit learn implement both randomized search and K-Fold.\n",
    "# By default, it uses the scores function of the given classifier, which is the accuracy for RandomForestClassifier\n",
    "from sklearn.model_selection import RandomizedSearchCV\n",
    "\n",
    "model = RandomForestClassifier(<add here constant parameters>)\n",
    "n_iter = 20\n",
    "\n",
    "optimized_clf = ???\n",
    "\n",
    "# TODO"
   ]
  },
  {
   "cell_type": "code",
   "execution_count": null,
   "metadata": {},
   "outputs": [],
   "source": [
    "plt.plot(range(n_iter), optimized_clf.cv_results_['mean_test_score'])\n",
    "plt.plot(range(n_iter), optimized_clf.cv_results_['mean_test_score'] + optimized_clf.cv_results_['std_test_score'])\n",
    "plt.plot(range(n_iter), optimized_clf.cv_results_['mean_test_score'] - optimized_clf.cv_results_['std_test_score'])\n",
    "plt.title(\"Successive test score (mean +/- std)\")"
   ]
  },
  {
   "cell_type": "markdown",
   "metadata": {},
   "source": [
    "# Conclusion\n",
    "\n",
    "Tout au long de ce notebook, nous avons pu observer comment les performances d'un algorithme peuvent varier en fonction de l'entraînement et des hyper-paramètres.\n",
    "\n",
    "L'évaluation d'un modèle doit être très rigoureuse ! En effet, il est nécessaire de constamment se poser la question de la qualité de l'apprentissage du modèle : est-ce le modèle est en sur-apprentissage ? est-ce que le modèle a suffisamment appris ?\n",
    "Les meilleurs modèles sont ceux qui parviennent à réaliser au mieux ce compromis entre biais et variance, autrement dit entre un modèle riche et une capacité de généralisation."
   ]
  }
 ],
 "metadata": {
  "kernelspec": {
   "display_name": "Python 3 (ipykernel)",
   "language": "python",
   "name": "python3"
  },
  "language_info": {
   "codemirror_mode": {
    "name": "ipython",
    "version": 3
   },
   "file_extension": ".py",
   "mimetype": "text/x-python",
   "name": "python",
   "nbconvert_exporter": "python",
   "pygments_lexer": "ipython3",
   "version": "3.9.12"
  }
 },
 "nbformat": 4,
 "nbformat_minor": 2
}
