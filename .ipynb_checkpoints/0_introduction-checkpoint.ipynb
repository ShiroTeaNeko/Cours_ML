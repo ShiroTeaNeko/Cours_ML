{
 "cells": [
  {
   "cell_type": "markdown",
   "metadata": {},
   "source": [
    "# Machine Learning - Introduction\n",
    "\n",
    "\n",
    "### Objectifs\n",
    "Ce notebook est une introduction au cours, il permet de vérifier que votre environnement est bien configuré et de présenter quelques commandes simples de manimulations de données, qui vous serviront tout au long de ce cours.\n",
    "\n",
    "### Agenda\n",
    "* Prise en main de jupyter\n",
    "* Présentations des principales librairies qui seront utilisées"
   ]
  },
  {
   "cell_type": "markdown",
   "metadata": {},
   "source": [
    "## Jupyter\n",
    "\n",
    "Les notebooks jupyter sont des outils permettant de coder interactivement et de mélanger du **code** et **autres contenus** (texte, nombres, graphes, etc.), comme ici ce que vous êtes en train de lire !\n",
    "\n",
    "Ils sont particulièrement utilisés en **datascience** car ils sont idéals pour **explorer** des données.\n",
    "\n",
    "Attention à ne pas en abuser ! Ils ne remplacent pas un programme (script, API, etc.).\n",
    "\n",
    "Un notebook est composé de **cellules** qui peuvent être : \n",
    "* du code\n",
    "* du markdown\n",
    "* du texte brut\n",
    "\n",
    "Pour chaque cellule de code, la sortie de l'exécution est affichée en dessous.\n",
    "\n",
    "#### Notez bien : quand vous êtes sur l'interface jupyter, il y a 2 modes bien distinct : \n",
    "* mode 'édition' : quand vous tapez du texte ou code dans une cellule\n",
    "* mode 'exécution' : quand vous naviguez d'une cellule à l'autre.\n",
    "Pour passer d'un mode à l'autre : ENTER & ECHAP\n",
    "\n",
    "\n",
    "#### Prenez le temps de vous familiariser avec le notebook. Par exemple en modifiant cette cellule et en essayant de l'exécuter en tant que code.\n",
    "Il vous sera aussi très efficace d'apprendre les raccourcis (Enter, Echap, 'a', 'b', shift+enter, ctrl+enter, \"m\", \"y\")\n",
    "\n",
    "\n"
   ]
  },
  {
   "cell_type": "markdown",
   "metadata": {},
   "source": [
    "## Python Hello World\n",
    "\n",
    "A vous de coder !"
   ]
  },
  {
   "cell_type": "markdown",
   "metadata": {},
   "source": [
    "#### Pour vérifier l'environnement utilisé & la version de python"
   ]
  },
  {
   "cell_type": "code",
   "execution_count": 1,
   "metadata": {},
   "outputs": [
    {
     "name": "stdout",
     "output_type": "stream",
     "text": [
      "python executable: C:\\Users\\bossd\\anaconda3\\envs\\cours_ML\\python.exe\n",
      "python version: 3.9.12 (main, Apr  4 2022, 05:22:27) [MSC v.1916 64 bit (AMD64)]\n"
     ]
    },
    {
     "data": {
      "text/plain": [
       "sys.version_info(major=3, minor=9, micro=12, releaselevel='final', serial=0)"
      ]
     },
     "execution_count": 1,
     "metadata": {},
     "output_type": "execute_result"
    }
   ],
   "source": [
    "import sys\n",
    "print(f\"python executable: {sys.executable}\")\n",
    "print(f\"python version: {sys.version}\")\n",
    "sys.version_info"
   ]
  },
  {
   "cell_type": "code",
   "execution_count": null,
   "metadata": {},
   "outputs": [],
   "source": [
    "# here, just implement a 'hello world' function\n",
    "def print_hello_world(name):\n",
    "    \"\"\"\n",
    "    This is a docstring!\n",
    "    Basic function to say hello to the name provided as arg\n",
    "\n",
    "    @param name: string\n",
    "    @return None \n",
    "    \"\"\"\n",
    "    raise NotImplementedError(\"You should implement this function\")\n",
    "\n",
    "print_hello_world(\"Ynov\")"
   ]
  },
  {
   "cell_type": "markdown",
   "metadata": {},
   "source": [
    "## NumPy\n",
    "\n",
    "NumPy (pour *NUMeric PYthon*) est une librairie pour manier des valeurs numériques en python. Cette librairie très performante implémente des fonctions de bases d'algèbre linéaire (opérations sur les matrices). Elle exploite elle-même des composants très puissant (sur Windows : MKL). \n",
    "Beaucoup des outils que nous allons utiliser repose sur cette librairie.\n",
    "\n",
    "Plus d'informations ici : https://numpy.org/\n",
    "\n",
    "Si la ligne suivante échoue, c'est que NumPy n'est pas installé dans votre environnement.\n"
   ]
  },
  {
   "cell_type": "code",
   "execution_count": null,
   "metadata": {},
   "outputs": [],
   "source": [
    "import numpy as np"
   ]
  },
  {
   "cell_type": "code",
   "execution_count": null,
   "metadata": {},
   "outputs": [],
   "source": [
    "this_is_a_pure_python_list = [1, 2, 3, 4]\n",
    "this_is_a_pure_python_list"
   ]
  },
  {
   "cell_type": "code",
   "execution_count": null,
   "metadata": {},
   "outputs": [],
   "source": [
    "this_is_an_array = np.array(this_is_a_pure_python_list)\n",
    "this_is_an_array"
   ]
  },
  {
   "cell_type": "markdown",
   "metadata": {},
   "source": [
    "#### Quelques manipulations avec numpy"
   ]
  },
  {
   "cell_type": "code",
   "execution_count": null,
   "metadata": {},
   "outputs": [],
   "source": [
    "# create a sequence of number\n",
    "seq = np.linspace(0,100,20)\n",
    "seq"
   ]
  },
  {
   "cell_type": "code",
   "execution_count": null,
   "metadata": {},
   "outputs": [],
   "source": [
    "# print the shape\n",
    "seq.shape"
   ]
  },
  {
   "cell_type": "code",
   "execution_count": null,
   "metadata": {},
   "outputs": [],
   "source": [
    "# reshape to a matrix (2 dimensions)\n",
    "seq = seq.reshape((10,2))\n",
    "print(f\"New shape is: {seq.shape}\")\n",
    "seq"
   ]
  },
  {
   "cell_type": "code",
   "execution_count": null,
   "metadata": {},
   "outputs": [],
   "source": [
    "# select one element\n",
    "seq[5,1]"
   ]
  },
  {
   "cell_type": "code",
   "execution_count": null,
   "metadata": {},
   "outputs": [],
   "source": [
    "# select only the second col\n",
    "col2 = seq[:,1]\n",
    "col2"
   ]
  },
  {
   "cell_type": "code",
   "execution_count": null,
   "metadata": {},
   "outputs": [],
   "source": [
    "# select the first 3 elements of the first col\n",
    "seq[:3,0]"
   ]
  },
  {
   "cell_type": "code",
   "execution_count": null,
   "metadata": {},
   "outputs": [],
   "source": [
    "# select the last element of each col (or select the last row)\n",
    "# note the difference between this line and the following\n",
    "seq[-1,:]"
   ]
  },
  {
   "cell_type": "code",
   "execution_count": null,
   "metadata": {},
   "outputs": [],
   "source": [
    "seq[-1:,:]"
   ]
  },
  {
   "cell_type": "code",
   "execution_count": null,
   "metadata": {},
   "outputs": [],
   "source": [
    "# compute sum, max, mean, var, argmax\n",
    "print(\"The sum of the array is:\", seq.sum())\n",
    "print(\"The max of the array is:\", seq.max())\n",
    "print(\"The mean of the array is:\", seq.mean())\n",
    "print(\"The variance of the array is:\", seq.var())\n",
    "print(\"The index of the minimal value of the array is:\", seq.argmin())"
   ]
  },
  {
   "cell_type": "code",
   "execution_count": null,
   "metadata": {},
   "outputs": [],
   "source": [
    "# print the mean per row\n",
    "seq.mean(1)"
   ]
  },
  {
   "cell_type": "markdown",
   "metadata": {},
   "source": [
    "## Pandas\n",
    "\n",
    "Pandas est une librairie très complète de manipulation de DataFrame. Les données que nous manipulerons seront généralement lues dans des DataFrame.\n",
    "\n",
    "Un DataFrame est un tableau, il contient : \n",
    "* un index\n",
    "* une liste de colonne\n",
    "* des valeurs\n",
    "\n",
    "Chaque colonne du DataFrame est un objet de type Serie (qui contient un nom, un index et des valeurs).\n",
    "\n",
    "Pandas repose sur la librairie NumPy.\n",
    "La manipulation des données en Pandas est donc très proche de la manipulation des données avec Numpy.\n",
    "\n",
    "Si la ligne suivante ne marche pas, vérifiez que pandas est bien présent dans votre environnement."
   ]
  },
  {
   "cell_type": "code",
   "execution_count": null,
   "metadata": {},
   "outputs": [],
   "source": [
    "import pandas as pd "
   ]
  },
  {
   "cell_type": "code",
   "execution_count": null,
   "metadata": {},
   "outputs": [],
   "source": [
    "# Basic Serie generation\n",
    "my_serie = pd.Series(range(10))\n",
    "my_serie"
   ]
  },
  {
   "cell_type": "code",
   "execution_count": null,
   "metadata": {},
   "outputs": [],
   "source": [
    "# This time we create a series of float with index as letter\n",
    "my_serie_2 = pd.Series([i**2 for i in range(10)], index=list('ABCDEFGHIJ'), name=\"my_serie\")\n",
    "my_serie_2"
   ]
  },
  {
   "cell_type": "code",
   "execution_count": null,
   "metadata": {},
   "outputs": [],
   "source": [
    "# Create a DataFrame\n",
    "df = pd.DataFrame()\n",
    "\n",
    "for col_name, power in zip([\"constant\", \"linear\", \"square\", \"cube\"], range(4)):\n",
    "    df[col_name] = np.arange(11)**power\n",
    "df"
   ]
  },
  {
   "cell_type": "code",
   "execution_count": null,
   "metadata": {},
   "outputs": [],
   "source": [
    "print(\"The shape of the dataframe is:\")\n",
    "df.shape"
   ]
  },
  {
   "cell_type": "code",
   "execution_count": null,
   "metadata": {},
   "outputs": [],
   "source": [
    "# Short description of the dataframe\n",
    "df.describe()"
   ]
  },
  {
   "cell_type": "code",
   "execution_count": null,
   "metadata": {},
   "outputs": [],
   "source": [
    "# select the linear colonne\n",
    "raise NotImplementedError()"
   ]
  },
  {
   "cell_type": "code",
   "execution_count": null,
   "metadata": {},
   "outputs": [],
   "source": [
    "# select the square numbers of numbers between 4 and 6\n",
    "raise NotImplementedError()"
   ]
  },
  {
   "cell_type": "code",
   "execution_count": null,
   "metadata": {},
   "outputs": [],
   "source": [
    "# Multiply square by linear and check that it equals cube\n",
    "raise NotImplementedError()"
   ]
  },
  {
   "cell_type": "code",
   "execution_count": null,
   "metadata": {},
   "outputs": [],
   "source": [
    "# Add the new column with the result of : x**2 + 2x + 1\n",
    "raise NotImplementedError()"
   ]
  },
  {
   "cell_type": "markdown",
   "metadata": {},
   "source": [
    "## Matplotlib & seaborn\n",
    "\n",
    "Matplotlib est une librairie (bas niveau) pour tracer des graphes.\n",
    "Nous essayerons de l'utiliser le moins possible directement.\n",
    "\n",
    "Seaborn est une surcouche à Matplotlib offrant des fonctionnalités intéressantes pour tracer des graphes.\n",
    "Voir la gallerie sur le site de Seaborn : https://seaborn.pydata.org/examples/index.html\n",
    "\n",
    "Si les lignes suivantes ne fonctionnent pas, vérifier que Matplotlib & Seaborn sont bien installés sur votre environnement."
   ]
  },
  {
   "cell_type": "code",
   "execution_count": null,
   "metadata": {},
   "outputs": [],
   "source": [
    "import matplotlib.pylab as plt"
   ]
  },
  {
   "cell_type": "code",
   "execution_count": null,
   "metadata": {},
   "outputs": [],
   "source": [
    "import seaborn as sns"
   ]
  },
  {
   "cell_type": "code",
   "execution_count": null,
   "metadata": {},
   "outputs": [],
   "source": [
    "# It is generally easier to use function from pandas directly!\n",
    "df.plot()"
   ]
  },
  {
   "cell_type": "code",
   "execution_count": null,
   "metadata": {},
   "outputs": [],
   "source": [
    "# generation d'une distribution\n",
    "mean1 = 0\n",
    "var1 = 1.5\n",
    "mean2 = 5\n",
    "var2 = 2\n",
    "size = 1000\n",
    "\n",
    "mat1 =  mean1 + np.random.randn(size, 2) * var1\n",
    "mat2 =  mean2 + np.random.randn(size,2) * var2\n",
    "mat = np.concatenate([mat1, mat2])\n",
    "np.random.shuffle(mat)\n",
    "mat.shape"
   ]
  },
  {
   "cell_type": "code",
   "execution_count": null,
   "metadata": {},
   "outputs": [],
   "source": [
    "# Get a dataframe from a numpy array\n",
    "df2 = pd.DataFrame(mat, columns=['A', 'B'])\n",
    "df2"
   ]
  },
  {
   "cell_type": "code",
   "execution_count": null,
   "metadata": {},
   "outputs": [],
   "source": [
    "# Afficher une distribution\n",
    "df2[['A']].hist(bins=20)"
   ]
  },
  {
   "cell_type": "code",
   "execution_count": null,
   "metadata": {},
   "outputs": [],
   "source": [
    "# Affichage via sns\n",
    "sns.pairplot(df2)"
   ]
  },
  {
   "cell_type": "markdown",
   "metadata": {},
   "source": [
    "## Scikit-Learn\n",
    "\n",
    "Scikit-learn est une trousse à outils pour le machine learning - très complète et bien documenté. L'outil indispensable de toute personne pratiquant du ML en python !"
   ]
  },
  {
   "cell_type": "code",
   "execution_count": null,
   "metadata": {},
   "outputs": [],
   "source": [
    "from sklearn.mixture import GaussianMixture"
   ]
  },
  {
   "cell_type": "code",
   "execution_count": null,
   "metadata": {},
   "outputs": [],
   "source": [
    "gmm = GaussianMixture(n_components=2)\n",
    "%time gmm.fit(df2)\n",
    "df2['c'] = gmm.predict(df2)\n",
    "df2"
   ]
  },
  {
   "cell_type": "code",
   "execution_count": null,
   "metadata": {},
   "outputs": [],
   "source": [
    "plt.scatter(df2['A'], df2['B'], c=df2[\"c\"])"
   ]
  },
  {
   "cell_type": "code",
   "execution_count": null,
   "metadata": {},
   "outputs": [],
   "source": []
  }
 ],
 "metadata": {
  "kernelspec": {
   "display_name": "Python 3 (ipykernel)",
   "language": "python",
   "name": "python3"
  },
  "language_info": {
   "codemirror_mode": {
    "name": "ipython",
    "version": 3
   },
   "file_extension": ".py",
   "mimetype": "text/x-python",
   "name": "python",
   "nbconvert_exporter": "python",
   "pygments_lexer": "ipython3",
   "version": "3.9.12"
  }
 },
 "nbformat": 4,
 "nbformat_minor": 2
}
